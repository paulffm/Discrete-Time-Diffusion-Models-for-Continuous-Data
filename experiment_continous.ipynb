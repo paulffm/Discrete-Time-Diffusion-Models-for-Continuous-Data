{
 "cells": [
  {
   "cell_type": "code",
   "execution_count": null,
   "metadata": {},
   "outputs": [],
   "source": [
    "from models.unet import Unet\n",
    "from models.diffusion_model import DiffusionModel, DiffusionModelExtended, DiffusionModelTest\n",
    "#from diffusion_model_improved import TargetDiffusion, LearnedVarDiffusion\n",
    "import torch\n",
    "from utils.trainer_utils import Trainer\n",
    "import numpy as np\n",
    "from utils.data_utils import save_config_to_yaml\n",
    "from utils.model_utils import linear_beta_schedule\n",
    "import torch.nn.functional as F\n"
   ]
  },
  {
   "cell_type": "code",
   "execution_count": null,
   "metadata": {},
   "outputs": [],
   "source": [
    "num_classes = len(np.arange(0, 10))\n",
    "unet_model = Unet(dim=64, channels=1, dim_mults=[1, 2], resnet_block_groups=8, num_classes=None, learned_sinusoidal_dim=16, use_sinposemb=False) \n",
    "lr = 0.5e-4\n",
    "optimizer = torch.optim.Adam(unet_model.parameters(), lr=lr)\n",
    "optimizer_config = {'optimizer': 'Adam', \n",
    "                    'lr': lr}\n",
    "\n",
    "diffusion_model = DiffusionModel(model=unet_model, image_size=32, in_channels=1, timesteps=1000, beta_schedule='linear')\n",
    "\n"
   ]
  },
  {
   "cell_type": "code",
   "execution_count": null,
   "metadata": {},
   "outputs": [],
   "source": [
    "trainer = Trainer(diffusion_model=diffusion_model, optimizer=optimizer, use_ema=True, use_cfg=False, nb_epochs=2, batch_size=64, device='cpu')\n",
    "save_config_to_yaml(filename='configs/config.yaml',\n",
    "    data={'dataset': 'MNIST',\n",
    "          'batch_size': 64,\n",
    "          'image_size': 32,\n",
    "          'use_augmentation': False},\n",
    "    model=unet_model.config,\n",
    "    diffusion=diffusion_model.config,\n",
    "    trainer=trainer.config,\n",
    "    optimizer=optimizer_config)\n",
    "\n",
    "trainer.train_loop()\n",
    "\n"
   ]
  },
  {
   "cell_type": "code",
   "execution_count": null,
   "metadata": {},
   "outputs": [],
   "source": [
    "trainer.sampling()"
   ]
  }
 ],
 "metadata": {
  "kernelspec": {
   "display_name": "diffvenv",
   "language": "python",
   "name": "python3"
  },
  "language_info": {
   "codemirror_mode": {
    "name": "ipython",
    "version": 3
   },
   "file_extension": ".py",
   "mimetype": "text/x-python",
   "name": "python",
   "nbconvert_exporter": "python",
   "pygments_lexer": "ipython3",
   "version": "3.10.4"
  },
  "orig_nbformat": 4
 },
 "nbformat": 4,
 "nbformat_minor": 2
}
