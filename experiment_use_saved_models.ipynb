{
 "cells": [
  {
   "cell_type": "code",
   "execution_count": null,
   "metadata": {},
   "outputs": [],
   "source": [
    "from models.unet import Unet\n",
    "from models.diffusion_model import DiffusionModel\n",
    "import copy\n",
    "import torch\n",
    "from utils.trainer_utils import Trainer\n",
    "from utils.data_utils import load_config_from_yaml, plot_figure"
   ]
  },
  {
   "cell_type": "code",
   "execution_count": null,
   "metadata": {},
   "outputs": [],
   "source": [
    "# Loading the model and configurations and \n",
    "checkpoint = torch.load('checkpoints/checkpoint_1.pth.tar')\n",
    "config = load_config_from_yaml(\"configs/config.yaml\")\n",
    "\n",
    "config_unet = config['model']\n",
    "config_diffusion_model = config['diffusion']\n",
    "\n",
    "# create instance of unet\n",
    "unet_model = Unet(**config_unet)\n",
    "unet_model.load_state_dict(checkpoint[\"unet_model_state\"])\n",
    "\n",
    "# create instance of ema mdoel\n",
    "ema_model = (copy.deepcopy(unet_model).eval().requires_grad_(False))\n",
    "ema_model.load_state_dict(checkpoint[\"ema_model_state\"])\n",
    "\n",
    "# create instance of DiffusionModel\n",
    "diffusion_model = DiffusionModel(model=unet_model, **config_diffusion_model)\n",
    "diffusion_model.load_state_dict(checkpoint[\"diffusion_model_state\"])\n",
    "\n",
    "n_samples = 10\n",
    "classes = torch.arange(0, 10).to(\"cpu\") \n",
    "\n",
    "samples_ddim = diffusion_model.sample(n_samples=n_samples, ema_model=None, classes=classes, cond_weight=1, use_ddim=False, eta=0)\n",
    "samples_ema_ddim = diffusion_model.sample(n_samples=n_samples, ema_model=ema_model, classes=classes, cond_weight=1, use_ddim=False, eta=0)\n"
   ]
  },
  {
   "cell_type": "code",
   "execution_count": null,
   "metadata": {},
   "outputs": [],
   "source": [
    "fig_eta0 = plot_figure(samples_ddim_eta0, n_samples)\n",
    "fig_ema_eta0 = plot_figure(samples_ema_ddim_eta0, n_samples)"
   ]
  },
  {
   "cell_type": "code",
   "execution_count": null,
   "metadata": {},
   "outputs": [],
   "source": [
    "fig = plot_figure(samples_ddim, n_samples)\n",
    "fig_ema = plot_figure(samples_ema_ddim, n_samples)"
   ]
  },
  {
   "cell_type": "code",
   "execution_count": null,
   "metadata": {},
   "outputs": [],
   "source": [
    "# train again\n",
    "optimizer = torch.optim.Adam(unet_model.parameters(), lr=config['optimizer']['lr'])\n",
    "optimizer.load_state_dict(checkpoint[\"optimizer_state\"])\n",
    "trainer = Trainer(**config['trainer'], diffusion_model=diffusion_model, optimizer=optimizer)\n",
    "trainer.nb_epochs = 4\n",
    "trainer.start_epoch = checkpoint['epoch']\n",
    "trainer.train_loop()\n"
   ]
  },
  {
   "cell_type": "code",
   "execution_count": null,
   "metadata": {},
   "outputs": [],
   "source": [
    "# train model from beginning with same configurations: to reproduce results\n",
    "# makes no use of existing states\n",
    "config = load_config_from_yaml(\"configs/config.yaml\")\n",
    "\n",
    "config_unet = config['model']\n",
    "config_diffusion_model = config['diffusion']\n",
    "\n",
    "unet_model = Unet(**config_unet)\n",
    "diffusion_model = DiffusionModel(model=unet_model, **config_diffusion_model)\n",
    "\n",
    "optimizer = torch.optim.Adam(unet_model.parameters(), lr=config['optimizer']['lr'])\n",
    "trainer = Trainer(**config['trainer'], diffusion_model=diffusion_model, optimizer=optimizer)\n",
    "trainer.train_loop()"
   ]
  }
 ],
 "metadata": {
  "kernelspec": {
   "display_name": "diffvenv",
   "language": "python",
   "name": "python3"
  },
  "language_info": {
   "codemirror_mode": {
    "name": "ipython",
    "version": 3
   },
   "file_extension": ".py",
   "mimetype": "text/x-python",
   "name": "python",
   "nbconvert_exporter": "python",
   "pygments_lexer": "ipython3",
   "version": "3.10.4"
  },
  "orig_nbformat": 4
 },
 "nbformat": 4,
 "nbformat_minor": 2
}
